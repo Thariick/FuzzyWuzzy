{
 "cells": [
  {
   "cell_type": "code",
   "execution_count": 63,
   "metadata": {},
   "outputs": [],
   "source": [
    "#Imports\n",
    "from thefuzz import process, fuzz\n",
    "import csv\n",
    "import snowflake.connector\n",
    "import pandas as pd\n",
    "from snowflake.connector.pandas_tools import write_pandas\n",
    "import matplotlib.pyplot as plt\n"
   ]
  },
  {
   "cell_type": "code",
   "execution_count": 52,
   "metadata": {},
   "outputs": [],
   "source": [
    "#Function to read the data from the csv files\n",
    "def read_csv(file_path):\n",
    "    with open(file_path, mode='r') as file:\n",
    "        reader = csv.DictReader(file)\n",
    "        return [row for row in reader]\n",
    "\n",
    "customers = read_csv('customers.csv')\n",
    "transactions = read_csv('transactions.csv')"
   ]
  },
  {
   "cell_type": "code",
   "execution_count": 53,
   "metadata": {},
   "outputs": [
    {
     "name": "stdout",
     "output_type": "stream",
     "text": [
      "  transaction_id    customer_name amount transaction_date customer_id  \\\n",
      "0            101       John Smith    784       2023-01-31           1   \n",
      "1            102         Jane Doe    659       2023-02-28           2   \n",
      "2            103   Micheal Jonson    729       2023-03-31           3   \n",
      "3            104        Chris Lee    292       2023-04-30           4   \n",
      "4            105  Katherine Davis    935       2023-05-31           5   \n",
      "\n",
      "                  email  \n",
      "0  john.smith@email.com  \n",
      "1    jane.doe@email.com  \n",
      "2   m.johnson@email.com  \n",
      "3       c.lee@email.com  \n",
      "4     k.davis@email.com  \n"
     ]
    }
   ],
   "source": [
    "#Function to match customer names\n",
    "def match_customers(txn_name, customers):\n",
    "    #Extracting the customer names and ids\n",
    "    customer_names = [customer['customer_name'] for customer in customers]\n",
    "    \n",
    "    #Finding the best match for the txn name in customer name\n",
    "    best_match, score = process.extractOne(txn_name, customer_names, scorer=fuzz.token_sort_ratio)\n",
    "    \n",
    "    #Returning the best match according to the threshold\n",
    "    if score > 80:  #Threshold can be adjusted, closer to 100 means only very close matches will be accepted\n",
    "        return next(customer for customer in customers if customer['customer_name'] == best_match)\n",
    "    return None\n",
    "\n",
    "#Mergeing the datasets with fuzzy matching\n",
    "merged_data = []\n",
    "for transaction in transactions:\n",
    "    matched_customer = match_customers(transaction['customer_name'], customers)\n",
    "    if matched_customer:\n",
    "        merged_data.append({**transaction, **matched_customer})\n",
    "\n",
    "\n",
    "#Transforming the merged data into pandas df\n",
    "merged_df = pd.DataFrame(merged_data)\n",
    "\n",
    "#Displaying 5 rows\n",
    "print(merged_df.head())  # Displays the first 5 rows\n"
   ]
  },
  {
   "cell_type": "code",
   "execution_count": 62,
   "metadata": {},
   "outputs": [
    {
     "name": "stdout",
     "output_type": "stream",
     "text": [
      "Data uploaded successfully\n"
     ]
    }
   ],
   "source": [
    "import snowflake.connector\n",
    "\n",
    "#Connecting to Snowflake\n",
    "conn = snowflake.connector.connect(\n",
    "    user='xxxxx',\n",
    "    password='xxxxxx',\n",
    "    account='xxxxxx.east-us-2.azure',\n",
    "    warehouse='COMPUTE_WH',\n",
    "    database='FUZZYCHALLENGE',\n",
    "    schema='PUBLIC',\n",
    "    role='ACCOUNTADMIN'\n",
    ")\n",
    "cursor = conn.cursor()\n",
    "\n",
    "#SQL script to create a new table\n",
    "create_table_query = \"\"\"\n",
    "CREATE OR REPLACE TABLE fuzzywuzzydata(\n",
    "    transaction_id integer,\n",
    "    customer_name string,\n",
    "    amount integer,\n",
    "    transaction_date date,\n",
    "    customer_id integer,\n",
    "    email string\n",
    ");\n",
    "\"\"\"\n",
    "\n",
    "#Executing the script\n",
    "cursor.execute(create_table_query)\n",
    "\n",
    "#Saving the file local\n",
    "merged_df.to_csv('merged_data.csv', index=False)\n",
    "\n",
    "#Uploading the CSV file to an internal stage\n",
    "cursor.execute(\"PUT file://merged_data.csv @%fuzzywuzzydata\")\n",
    "\n",
    "#Loading the data from the stage into the table\n",
    "cursor.execute(\"\"\"\n",
    "COPY INTO fuzzywuzzydata\n",
    "FROM @%fuzzywuzzydata/merged_data.csv\n",
    "FILE_FORMAT = (TYPE = CSV, FIELD_OPTIONALLY_ENCLOSED_BY = '\"', SKIP_HEADER = 1);\n",
    "\"\"\")\n",
    "\n",
    "#Making sure it works\n",
    "print(\"Data uploaded successfully\")\n",
    "\n",
    "#Closing the cursor and connection\n",
    "cursor.close()\n",
    "conn.close()\n"
   ]
  },
  {
   "cell_type": "markdown",
   "metadata": {},
   "source": [
    "Analysis using Jupyter"
   ]
  },
  {
   "cell_type": "code",
   "execution_count": null,
   "metadata": {},
   "outputs": [],
   "source": [
    "#Convert transaction_date to datetime\n",
    "merged_df['transaction_date'] = pd.to_datetime(merged_df['transaction_date'])\n",
    "\n",
    "#Converting amount into integer\n",
    "merged_df['amount'] = pd.to_numeric(merged_df['amount'], downcast='integer')\n",
    "\n",
    "#Converting customer_id into integer\n",
    "merged_df['customer_id'] = pd.to_numeric(merged_df['customer_id'], downcast='integer')\n",
    "\n",
    "#Total sales over time\n",
    "monthly_sales = merged_df.resample('M', on='transaction_date')['amount'].sum()\n",
    "\n",
    "#Plotting\n",
    "plt.figure(figsize=(10, 5))\n",
    "plt.plot(monthly_sales.index, monthly_sales, marker='o', linestyle='-')\n",
    "plt.title('Total Sales Over Time')\n",
    "plt.xlabel('Month')\n",
    "plt.ylabel('Total Sales')\n",
    "plt.grid(True)\n",
    "plt.show()\n"
   ]
  },
  {
   "cell_type": "code",
   "execution_count": null,
   "metadata": {},
   "outputs": [],
   "source": [
    "#Aggregating sales by customer_id\n",
    "customer_sales = merged_df.groupby('customer_id')['amount'].sum().reset_index()\n",
    "\n",
    "#Plotting\n",
    "plt.figure(figsize=(10, 5))\n",
    "plt.hist(customer_sales['amount'], bins=30, edgecolor='k')\n",
    "plt.title('Customer Sales Distribution')\n",
    "plt.xlabel('Total Sales per Customer')\n",
    "plt.ylabel('Number of Customers')\n",
    "plt.grid(True)\n",
    "plt.show()\n"
   ]
  },
  {
   "cell_type": "code",
   "execution_count": null,
   "metadata": {},
   "outputs": [],
   "source": [
    "#Aggregating the number of transactions per customer\n",
    "customer_purchases = merged_df.groupby('customer_id').size().reset_index(name='num_purchases')\n",
    "\n",
    "#Plotting\n",
    "plt.figure(figsize=(10, 5))\n",
    "plt.bar(customer_purchases['customer_id'].astype(str), customer_purchases['num_purchases'])\n",
    "plt.title('Number of Transactions per Customer')\n",
    "plt.xlabel('Customer ID')\n",
    "plt.ylabel('Number of Transactions')\n",
    "plt.xticks(rotation=90)\n",
    "plt.grid(True)\n",
    "plt.tight_layout()\n",
    "plt.show()\n"
   ]
  }
 ],
 "metadata": {
  "kernelspec": {
   "display_name": "Python 3",
   "language": "python",
   "name": "python3"
  },
  "language_info": {
   "codemirror_mode": {
    "name": "ipython",
    "version": 3
   },
   "file_extension": ".py",
   "mimetype": "text/x-python",
   "name": "python",
   "nbconvert_exporter": "python",
   "pygments_lexer": "ipython3",
   "version": "3.12.1"
  }
 },
 "nbformat": 4,
 "nbformat_minor": 2
}
